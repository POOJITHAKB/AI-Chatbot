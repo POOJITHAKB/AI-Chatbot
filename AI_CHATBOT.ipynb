{
  "nbformat": 4,
  "nbformat_minor": 0,
  "metadata": {
    "colab": {
      "provenance": [],
      "authorship_tag": "ABX9TyOdy/Rc65IkAM1itCUUCFUz",
      "include_colab_link": true
    },
    "kernelspec": {
      "name": "python3",
      "display_name": "Python 3"
    },
    "language_info": {
      "name": "python"
    }
  },
  "cells": [
    {
      "cell_type": "markdown",
      "metadata": {
        "id": "view-in-github",
        "colab_type": "text"
      },
      "source": [
        "<a href=\"https://colab.research.google.com/github/POOJITHAKB/AI-Chatbot/blob/main/AI_CHATBOT.ipynb\" target=\"_parent\"><img src=\"https://colab.research.google.com/assets/colab-badge.svg\" alt=\"Open In Colab\"/></a>"
      ]
    },
    {
      "cell_type": "code",
      "execution_count": null,
      "metadata": {
        "colab": {
          "base_uri": "https://localhost:8080/"
        },
        "id": "q_FXErsjCZ8D",
        "outputId": "0c1cf3b9-516a-43b5-b21f-31b906c1d67f"
      },
      "outputs": [
        {
          "name": "stdout",
          "output_type": "stream",
          "text": [
            "What is your name?\n",
            "Poojitha\n",
            "Hi Poojitha, I am Rule-Bot. Will you help me learn about your planet?\n",
            "can you brief me about all the planets\n",
            "Does Earth have a leader?\n",
            "I don't know\n"
          ]
        }
      ],
      "source": [
        "import re\n",
        "import random\n",
        "\n",
        "class RuleBot:\n",
        "    negative_responses = (\"no\", \"nope\", \"nah\", \"naw\", \"not a chance\", \"sorry\")\n",
        "    exit_commands = (\"quit\", \"pause\", \"exit\", \"goodbye\", \"bye\", \"later\")\n",
        "    random_questions = (\n",
        "        \"Why are you here?\",\n",
        "        \"Are there many humans like you?\",\n",
        "        \"What do you consume for sustenance?\",\n",
        "        \"Is there intelligent life on this planet?\",\n",
        "        \"Does Earth have a leader?\",\n",
        "        \"What planets have you visited?\",\n",
        "    )\n",
        "\n",
        "    def __init__(self):\n",
        "        self.alienbabble = {\n",
        "            'describe_planet_intent': r'.*\\s*your planet.*',\n",
        "            'answer_why_intent': r'why\\sare.*',\n",
        "            'about_intellipat': r'.*\\s*intellipaat.*'\n",
        "        }\n",
        "\n",
        "    def greet(self):\n",
        "        self.name = input(\"What is your name?\\n\")\n",
        "        will_help = input(\n",
        "            f\"Hi {self.name}, I am Rule-Bot. Will you help me learn about your planet?\\n\")\n",
        "        if will_help.lower() in self.negative_responses:\n",
        "            print(\"Ok, have a nice Earth day!\")\n",
        "        else:\n",
        "            self.chat()\n",
        "\n",
        "    def make_exit(self, reply):\n",
        "        for command in self.exit_commands:\n",
        "            if reply.lower() == command:\n",
        "                print(\"Okay, have a nice Earth day!\")\n",
        "                return True\n",
        "        return False\n",
        "\n",
        "    def chat(self):\n",
        "        reply = input(random.choice(self.random_questions) + \"\\n\")\n",
        "        while not self.make_exit(reply):\n",
        "            reply = input(self.match_rule(reply) + \"\\n\")\n",
        "\n",
        "    def match_rule(self, reply):\n",
        "        for intent, regex_pattern in self.alienbabble.items():\n",
        "            found_match = re.match(regex_pattern, reply, re.IGNORECASE)\n",
        "            if found_match:\n",
        "                if intent == 'describe_planet_intent':\n",
        "                    return self.describe_planet_intent()\n",
        "                elif intent == 'answer_why_intent':\n",
        "                    return self.answer_why_intent()\n",
        "                elif intent == 'about_intellipat':\n",
        "                    return self.about_intellipat()\n",
        "        return self.no_match_intent()\n",
        "\n",
        "    def describe_planet_intent(self):\n",
        "        responses = (\n",
        "            \"My planet is a utopia of diverse organisms and species.\",\n",
        "            \"I am from Opidipus, the capital of the Wayward Galaxies.\"\n",
        "        )\n",
        "        return random.choice(responses)\n",
        "\n",
        "    def answer_why_intent(self):\n",
        "        responses = (\n",
        "            \"I come in peace.\",\n",
        "            \"I am here to collect data on your planet and its inhabitants.\",\n",
        "            \"I heard the coffee is good.\"\n",
        "        )\n",
        "        return random.choice(responses)\n",
        "\n",
        "    def about_intellipat(self):\n",
        "        responses = (\n",
        "            \"Intellipaat is the world's largest professional educational company.\",\n",
        "            \"Intellipaat helps you learn concepts in a unique way.\",\n",
        "            \"Intellipaat is where your career and skills grow.\"\n",
        "        )\n",
        "        return random.choice(responses)\n",
        "\n",
        "    def no_match_intent(self):\n",
        "        responses = (\n",
        "            \"Please tell me more.\",\n",
        "            \"Tell me more!\",\n",
        "            \"Why do you say that?\",\n",
        "            \"I see. Can you elaborate?\",\n",
        "            \"Interesting. Can you tell me more?\",\n",
        "            \"I see. How do you think?\",\n",
        "            \"Why, how do you think I feel when you say that?\",\n",
        "            \"How do you think I feel when you say that?\"\n",
        "        )\n",
        "        return random.choice(responses)\n",
        "\n",
        "# Instantiate and start conversation\n",
        "bot = RuleBot()\n",
        "bot.greet()\n"
      ]
    },
    {
      "cell_type": "code",
      "source": [],
      "metadata": {
        "id": "UXrMUbaSCsbW"
      },
      "execution_count": null,
      "outputs": []
    }
  ]
}